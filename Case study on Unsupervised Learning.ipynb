{
 "cells": [
  {
   "cell_type": "markdown",
   "id": "feb95dae",
   "metadata": {},
   "source": [
    "# Case study on Unsupervised Learning\n",
    "Do the following in the wine dataset.\n",
    "\n",
    "1) Read the dataset to the python environment.\n",
    "\n",
    "2) Try out different clustering models in the wine dataset.\n",
    "\n",
    "3) Find the optimum number of clusters in each model and create the model with the optimum number of clusters.\n"
   ]
  },
  {
   "cell_type": "code",
   "execution_count": null,
   "id": "42589fdc",
   "metadata": {},
   "outputs": [],
   "source": [
    "# Importing the required libraries\n",
    "\n",
    "import numpy as np\n",
    "import pandas as pd\n",
    "import seaborn as sns\n",
    "import matplotlib.pyplot as plt\n",
    "import warnings\n",
    "warnings.filterwarnings(\"ignore\") "
   ]
  },
  {
   "cell_type": "code",
   "execution_count": null,
   "id": "5e4bcee2",
   "metadata": {},
   "outputs": [],
   "source": [
    "# Loading the data file into the pandas dataframe.\n",
    "\n",
    "data = pd.read_csv(r'C:\\Users\\Aneesh\\Downloads\\Wine.csv')\n",
    "data"
   ]
  },
  {
   "cell_type": "code",
   "execution_count": null,
   "id": "b64e34d0",
   "metadata": {},
   "outputs": [],
   "source": [
    "data.isnull().sum()"
   ]
  },
  {
   "cell_type": "code",
   "execution_count": null,
   "id": "126ce91b",
   "metadata": {},
   "outputs": [],
   "source": [
    "data.describe()"
   ]
  },
  {
   "cell_type": "code",
   "execution_count": null,
   "id": "c9802abf",
   "metadata": {},
   "outputs": [],
   "source": [
    "data.dtypes"
   ]
  },
  {
   "cell_type": "markdown",
   "id": "713afad7",
   "metadata": {},
   "source": [
    "# Checking correlation"
   ]
  },
  {
   "cell_type": "code",
   "execution_count": null,
   "id": "4edd6bfd",
   "metadata": {},
   "outputs": [],
   "source": [
    "correlation = data.corr()\n",
    "plt.figure(figsize=(20,10))\n",
    "sns.heatmap(correlation, annot = True, xticklabels = True, yticklabels = True,cmap = 'RdYlGn_r')\n",
    "plt.show()"
   ]
  },
  {
   "cell_type": "markdown",
   "id": "210d2c05",
   "metadata": {},
   "source": [
    "From the heatmap above, we can conclude that the correlation between\n",
    "\n",
    "\"Flavanoids\" and \"Total phenols\" (0.86);\"OD280\" and \"Flavanoids\" (0.79); \"OD280\" and \"Total phenols\" (0.7); are large. \n",
    "There seems to be a high correlation between Flavanoids and total phenols, and Flavanoids and OD280 of diluted wines"
   ]
  },
  {
   "cell_type": "markdown",
   "id": "6a7dd34c",
   "metadata": {},
   "source": [
    "# PCA"
   ]
  },
  {
   "cell_type": "markdown",
   "id": "a724bb19",
   "metadata": {},
   "source": [
    "# Normalize data\n",
    "We are going to normalize data by removing the mean and scaling to unit variance using preprocessing.\n",
    "StandardScaler and the table below show the general description statistics of normalized data."
   ]
  },
  {
   "cell_type": "code",
   "execution_count": null,
   "id": "b2841f51",
   "metadata": {},
   "outputs": [],
   "source": [
    "from sklearn.preprocessing import Normalizer\n",
    "no = pd.DataFrame(Normalizer().fit_transform(data), columns = data.columns, index = data.index)\n",
    "no"
   ]
  },
  {
   "cell_type": "code",
   "execution_count": null,
   "id": "c2e5a1b2",
   "metadata": {},
   "outputs": [],
   "source": [
    "#standardscaling\n",
    "\n",
    "from sklearn.preprocessing import StandardScaler\n",
    "scaler = StandardScaler(with_mean = True,with_std = True)\n",
    "scaler.fit(data)\n",
    "scaled_data = scaler.transform(data)\n",
    "scaled_data"
   ]
  },
  {
   "cell_type": "code",
   "execution_count": null,
   "id": "95457b93",
   "metadata": {
    "scrolled": true
   },
   "outputs": [],
   "source": [
    "from sklearn.decomposition import PCA"
   ]
  },
  {
   "cell_type": "code",
   "execution_count": null,
   "id": "62f94e84",
   "metadata": {},
   "outputs": [],
   "source": [
    "pca=PCA()\n",
    "pca.fit(scaled_data)"
   ]
  },
  {
   "cell_type": "code",
   "execution_count": null,
   "id": "1d050bc2",
   "metadata": {},
   "outputs": [],
   "source": [
    "pip install pca"
   ]
  },
  {
   "cell_type": "code",
   "execution_count": null,
   "id": "747205fd",
   "metadata": {},
   "outputs": [],
   "source": [
    "from pca import pca\n",
    "\n",
    "# Initialize to reduce the data up to the number of componentes that explains 95% of the variance.\n",
    "model = pca(n_components = 0.95)\n",
    "\n",
    "# Fit transform\n",
    "results = model.fit_transform(scaled_data)\n",
    "\n",
    "# Plot explained variance\n",
    "fig, ax = model.plot()\n"
   ]
  },
  {
   "cell_type": "markdown",
   "id": "bdeb684e",
   "metadata": {},
   "source": [
    "We observe that there is an elbow at 3"
   ]
  },
  {
   "cell_type": "code",
   "execution_count": null,
   "id": "3ede62ee",
   "metadata": {},
   "outputs": [],
   "source": [
    "# Scatter first 2 PCs\n",
    "fig, ax = model.scatter()"
   ]
  },
  {
   "cell_type": "code",
   "execution_count": null,
   "id": "738f66ea",
   "metadata": {},
   "outputs": [],
   "source": [
    "# Make biplot with the number of features\n",
    "fig, ax = model.biplot(n_feat = 13,cmap = 'copper')"
   ]
  },
  {
   "cell_type": "code",
   "execution_count": null,
   "id": "7f829015",
   "metadata": {},
   "outputs": [],
   "source": [
    "pca = PCA(n_components=3)\n",
    "x_pca = pca.fit_transform(scaled_data)"
   ]
  },
  {
   "cell_type": "code",
   "execution_count": null,
   "id": "f5c1a6a0",
   "metadata": {},
   "outputs": [],
   "source": [
    "pcadf = pd.DataFrame(x_pca,columns=[\"PC1\",\"PC2\",\"PC3\"])\n",
    "pcadf"
   ]
  },
  {
   "cell_type": "code",
   "execution_count": null,
   "id": "9db9bd12",
   "metadata": {},
   "outputs": [],
   "source": [
    "pca.explained_variance_ratio_"
   ]
  },
  {
   "cell_type": "markdown",
   "id": "a108ace1",
   "metadata": {},
   "source": [
    "# K means clustering"
   ]
  },
  {
   "cell_type": "code",
   "execution_count": null,
   "id": "b84dacf9",
   "metadata": {},
   "outputs": [],
   "source": [
    "from sklearn.cluster import KMeans\n",
    "# elbow method\n",
    "wcss = []\n",
    "for i in range(1,11):\n",
    "  kmeans = KMeans(i)\n",
    "  kmeans.fit(pcadf)\n",
    "  wcss.append(kmeans.inertia_)\n",
    "\n",
    "number_clusters = range(1,11)\n",
    "plt.plot(number_clusters,wcss)\n",
    "plt.title('The Elbow plot')\n",
    "plt.xlabel('Number of clusters')\n",
    "plt.ylabel('WCSS')\n",
    "plt.show()"
   ]
  },
  {
   "cell_type": "markdown",
   "id": "dbe5c94f",
   "metadata": {},
   "source": [
    "We observe the elbow at k=3"
   ]
  },
  {
   "cell_type": "code",
   "execution_count": null,
   "id": "ea395da5",
   "metadata": {},
   "outputs": [],
   "source": [
    "from sklearn.metrics import silhouette_samples, silhouette_score\n",
    "score = []\n",
    "for i in range(2,11):\n",
    "  km = KMeans(i)\n",
    "  km.fit_predict(pcadf)\n",
    "  score.append(silhouette_score(pcadf, km.labels_, metric = 'euclidean'))\n",
    "number_clusters = range(2,11)\n",
    "plt.plot(number_clusters,score)\n",
    "plt.title('The Silhouette score plot')\n",
    "plt.xlabel('Number of clusters')\n",
    "plt.ylabel('Silhouette score ')\n",
    "plt.show()\n"
   ]
  },
  {
   "cell_type": "markdown",
   "id": "9c2f23c7",
   "metadata": {},
   "source": [
    "We observe the highest Silhouette score is for k=3\n",
    "\n",
    "Hence we select k=3 for our KMeans clustering algorithm"
   ]
  },
  {
   "cell_type": "code",
   "execution_count": null,
   "id": "819e1f62",
   "metadata": {},
   "outputs": [],
   "source": [
    "kmeans = KMeans(n_clusters = 3, init = 'k-means++', random_state = 42).fit(pcadf)"
   ]
  },
  {
   "cell_type": "code",
   "execution_count": null,
   "id": "79acca21",
   "metadata": {},
   "outputs": [],
   "source": [
    "kmeans.labels_"
   ]
  },
  {
   "cell_type": "code",
   "execution_count": null,
   "id": "046ea492",
   "metadata": {},
   "outputs": [],
   "source": [
    "kmeans.inertia_"
   ]
  },
  {
   "cell_type": "code",
   "execution_count": null,
   "id": "1c796952",
   "metadata": {},
   "outputs": [],
   "source": [
    "kmeans.n_iter_"
   ]
  },
  {
   "cell_type": "code",
   "execution_count": null,
   "id": "3275383a",
   "metadata": {},
   "outputs": [],
   "source": [
    "kmeans.cluster_centers_"
   ]
  },
  {
   "cell_type": "code",
   "execution_count": null,
   "id": "f310b6e0",
   "metadata": {},
   "outputs": [],
   "source": [
    "from collections import Counter\n",
    "Counter(kmeans.labels_)"
   ]
  },
  {
   "cell_type": "code",
   "execution_count": null,
   "id": "67d866e8",
   "metadata": {},
   "outputs": [],
   "source": [
    "plt.figure(figsize = (8,8))\n",
    "sns.scatterplot(x_pca[:,0],x_pca[:,1],hue = kmeans.labels_,palette = 'flare')\n",
    "plt.show()"
   ]
  },
  {
   "cell_type": "markdown",
   "id": "d5f08a9c",
   "metadata": {},
   "source": [
    "The data has been clustered into 3 clusters labelled as 0,1,2 using K-Means clustering algorithm"
   ]
  },
  {
   "cell_type": "markdown",
   "id": "7c47822d",
   "metadata": {},
   "source": [
    "# Hierarchical Clustering\n",
    "1) Agglomerative Hierarchical Clustering"
   ]
  },
  {
   "cell_type": "code",
   "execution_count": null,
   "id": "0750852a",
   "metadata": {},
   "outputs": [],
   "source": [
    "#Finding the optimal number of clusters using the dendrogram  \n",
    "\n",
    "import scipy.cluster.hierarchy as shc \n",
    "plt.figure(figsize = (10,10)) \n",
    "dendro = shc.dendrogram(shc.linkage(pcadf, method = \"ward\")) \n",
    "plt.axhline(y = 25,color = \"black\",linestyle = \"--\") \n",
    "plt.title(\"Dendrogram Plot\")  \n",
    "plt.ylabel(\"Euclidean Distances\")  \n",
    "plt.xlabel(\"Wines\")  \n",
    "plt.show()"
   ]
  },
  {
   "cell_type": "markdown",
   "id": "b555b76a",
   "metadata": {},
   "source": [
    "We have the longest vertical line in the range 12-28. So we draw a horizontal line at y=25 to obtain the number of clusters. \n",
    "Since there are 3 cuts to the horizontal line, the number of clusters is 3"
   ]
  },
  {
   "cell_type": "code",
   "execution_count": null,
   "id": "b4af2478",
   "metadata": {},
   "outputs": [],
   "source": [
    "from sklearn.cluster import AgglomerativeClustering\n",
    "linkage = ['complete', 'average', 'single']\n",
    "affinity = [\"euclidean\",\"manhattan\",\"cosine\"]\n",
    "s_scores = []\n",
    "max_score = -1\n",
    "for i in affinity:\n",
    "  for j in linkage:\n",
    "    agg = AgglomerativeClustering(n_clusters = 3, affinity = i, linkage = j,).fit(pcadf)\n",
    "    s_scores.append(silhouette_score(pcadf, agg.labels_)) \n",
    "    if s_scores[-1] > max_score:\n",
    "      aff = i\n",
    "      link = j\n",
    "print(aff,link)"
   ]
  },
  {
   "cell_type": "code",
   "execution_count": null,
   "id": "1e7b866d",
   "metadata": {},
   "outputs": [],
   "source": [
    "cos_single = silhouette_score(pcadf,AgglomerativeClustering(n_clusters = 3, affinity = \"cosine\", linkage = \"single\").fit(pcadf).labels_ )\n",
    "cos_single"
   ]
  },
  {
   "cell_type": "code",
   "execution_count": null,
   "id": "0014d637",
   "metadata": {},
   "outputs": [],
   "source": [
    "euclidean_ward = silhouette_score(pcadf,AgglomerativeClustering(n_clusters = 3, affinity = \"euclidean\", linkage = \"ward\").fit(pcadf).labels_ )\n",
    "euclidean_ward"
   ]
  },
  {
   "cell_type": "code",
   "execution_count": null,
   "id": "42a6f65b",
   "metadata": {},
   "outputs": [],
   "source": [
    "agg = AgglomerativeClustering(n_clusters =3 , affinity = 'euclidean', linkage = 'ward',)\n",
    "agg.fit(pcadf)"
   ]
  },
  {
   "cell_type": "code",
   "execution_count": null,
   "id": "b0353045",
   "metadata": {},
   "outputs": [],
   "source": [
    "agg.labels_"
   ]
  },
  {
   "cell_type": "code",
   "execution_count": null,
   "id": "8d6d3610",
   "metadata": {},
   "outputs": [],
   "source": [
    "#number of observations in each cluster\n",
    "\n",
    "from collections import Counter\n",
    "Counter(agg.labels_)"
   ]
  },
  {
   "cell_type": "code",
   "execution_count": null,
   "id": "f7d6c6ea",
   "metadata": {},
   "outputs": [],
   "source": [
    "plt.figure(figsize = (10,10))\n",
    "sns.scatterplot(x_pca[:,0],x_pca[:,1],hue = agg.labels_,palette = 'Set1')\n",
    "plt.show()"
   ]
  },
  {
   "cell_type": "markdown",
   "id": "371250c1",
   "metadata": {},
   "source": [
    "The data has been clustered into 3 clusters labelled as 0,1,2 using Agglomerative Hierarchical clustering algorithm"
   ]
  },
  {
   "cell_type": "markdown",
   "id": "673c2d66",
   "metadata": {},
   "source": [
    "# Model Comparison\n",
    "We will plot the clustering given by different models"
   ]
  },
  {
   "cell_type": "code",
   "execution_count": null,
   "id": "bb005f51",
   "metadata": {},
   "outputs": [],
   "source": [
    "ax = []\n",
    "names = [\"K-means clustering\",\"Hierarchical clustering\"]\n",
    "comp = [kmeans.labels_,agg.labels_]\n",
    "fig = plt.figure(figsize = (10,10))\n",
    "for i in range(0,2):\n",
    "  ax.append(fig.add_subplot(3,2,(i+1)))\n",
    "  sns.scatterplot(x_pca[:,0],x_pca[:,1],hue = comp[i],ax = ax[i],palette = \"Set1\")\n",
    "  ax[i].set_title(names[i])\n",
    "plt.show()"
   ]
  },
  {
   "cell_type": "markdown",
   "id": "6cfeb8a4",
   "metadata": {},
   "source": [
    "Not much difference is visible in the different clustering algorithms\n",
    "Evaluating the clustering algorithms\n",
    "The Davies–Bouldin index is a metric for evaluating clustering algorithms where the validation of how well the clustering has been done is made using quantities and features inherent to the dataset.\n",
    "Lower the DB index value, better is the clustering"
   ]
  },
  {
   "cell_type": "code",
   "execution_count": null,
   "id": "e63178b2",
   "metadata": {},
   "outputs": [],
   "source": [
    "from sklearn.metrics import davies_bouldin_score\n",
    "row_names = ['Algorithm','Silhouette score','DB index']\n",
    "alg = [\"K-Means\",\"Hierarchical\"]\n",
    "comp = [kmeans.labels_,agg.labels_]\n",
    "d = {}\n",
    "for i in range(0,2):\n",
    "    d[i] = [alg[i],silhouette_score(pcadf,comp[i]),davies_bouldin_score(pcadf,comp[i])]\n",
    "d\n",
    "table = pd.DataFrame(d,index=row_names)\n",
    "table"
   ]
  },
  {
   "cell_type": "markdown",
   "id": "3bd36497",
   "metadata": {},
   "source": [
    "From the above table it can be observed that the clustering algorithms perform almost in a similar way. \n",
    "The Silhouette score is maximum and the DB index is minimum for K-Means algorithm.\n",
    "Hence it can be concluded that K-Means is the best clustering algorithm for our data"
   ]
  },
  {
   "cell_type": "code",
   "execution_count": null,
   "id": "43229cd8",
   "metadata": {},
   "outputs": [],
   "source": [
    "newdf = no\n",
    "newdf[\"Cluster\"] = kmeans.labels_\n",
    "newdf"
   ]
  },
  {
   "cell_type": "code",
   "execution_count": null,
   "id": "c8de05fc",
   "metadata": {},
   "outputs": [],
   "source": [
    "ax = []\n",
    "names = newdf.columns\n",
    "fig = plt.figure(figsize = (20,20))\n",
    "for i in range(13):\n",
    "  ax.append(fig.add_subplot(5,3,(i+1)))\n",
    "  sns.boxplot(x = \"Cluster\",y = names[i],data = newdf,ax = ax[i],palette = \"Set2\")\n",
    "  \n",
    "plt.show()"
   ]
  },
  {
   "cell_type": "markdown",
   "id": "3529b564",
   "metadata": {},
   "source": [
    "Hence we can infer that the different wines in this dataset can be divided into three groups on the basis of the different variables"
   ]
  },
  {
   "cell_type": "code",
   "execution_count": null,
   "id": "c9d2386d",
   "metadata": {},
   "outputs": [],
   "source": []
  }
 ],
 "metadata": {
  "kernelspec": {
   "display_name": "Python 3 (ipykernel)",
   "language": "python",
   "name": "python3"
  },
  "language_info": {
   "codemirror_mode": {
    "name": "ipython",
    "version": 3
   },
   "file_extension": ".py",
   "mimetype": "text/x-python",
   "name": "python",
   "nbconvert_exporter": "python",
   "pygments_lexer": "ipython3",
   "version": "3.8.8"
  }
 },
 "nbformat": 4,
 "nbformat_minor": 5
}
